{
 "cells": [
  {
   "cell_type": "code",
   "execution_count": 1,
   "id": "5eca9c27",
   "metadata": {},
   "outputs": [],
   "source": [
    "import tensorflow as tf\n",
    "from tensorflow.keras.applications import InceptionV3\n",
    "from tensorflow.keras.models import Model, Sequential\n",
    "from tensorflow.keras.layers import Input, UpSampling2D, Flatten, BatchNormalization, Dense, Dropout, GlobalAveragePooling2D\n",
    "from tensorflow.keras.applications.inception_v3 import preprocess_input\n",
    "from keras.optimizers import Adam\n",
    "from sklearn.model_selection import train_test_split\n",
    "import pickle\n",
    "import cv2"
   ]
  },
  {
   "cell_type": "code",
   "execution_count": 2,
   "id": "2cf46088",
   "metadata": {},
   "outputs": [],
   "source": [
    "X = pickle.load(open(\"X.pickle\", \"rb\"))\n",
    "y = pickle.load(open(\"y.pickle\", \"rb\"))"
   ]
  },
  {
   "cell_type": "code",
   "execution_count": 3,
   "id": "b1a461f3",
   "metadata": {},
   "outputs": [
    {
     "name": "stdout",
     "output_type": "stream",
     "text": [
      "Metal device set to: Apple M1 Pro\n"
     ]
    },
    {
     "name": "stderr",
     "output_type": "stream",
     "text": [
      "2023-12-18 17:42:13.621438: I tensorflow/core/common_runtime/pluggable_device/pluggable_device_factory.cc:305] Could not identify NUMA node of platform GPU ID 0, defaulting to 0. Your kernel may not have been built with NUMA support.\n",
      "2023-12-18 17:42:13.622518: I tensorflow/core/common_runtime/pluggable_device/pluggable_device_factory.cc:271] Created TensorFlow device (/job:localhost/replica:0/task:0/device:GPU:0 with 0 MB memory) -> physical PluggableDevice (device: 0, name: METAL, pci bus id: <undefined>)\n"
     ]
    },
    {
     "name": "stdout",
     "output_type": "stream",
     "text": [
      "Model: \"model\"\n",
      "_________________________________________________________________\n",
      " Layer (type)                Output Shape              Param #   \n",
      "=================================================================\n",
      " input_2 (InputLayer)        [(None, 299, 299, 3)]     0         \n",
      "                                                                 \n",
      " tf.math.truediv (TFOpLambda  (None, 299, 299, 3)      0         \n",
      " )                                                               \n",
      "                                                                 \n",
      " tf.math.subtract (TFOpLambd  (None, 299, 299, 3)      0         \n",
      " a)                                                              \n",
      "                                                                 \n",
      " inception_v3 (Functional)   (None, 8, 8, 2048)        21802784  \n",
      "                                                                 \n",
      " global_average_pooling2d (G  (None, 2048)             0         \n",
      " lobalAveragePooling2D)                                          \n",
      "                                                                 \n",
      " dense (Dense)               (None, 256)               524544    \n",
      "                                                                 \n",
      " dropout (Dropout)           (None, 256)               0         \n",
      "                                                                 \n",
      " batch_normalization_94 (Bat  (None, 256)              1024      \n",
      " chNormalization)                                                \n",
      "                                                                 \n",
      " dense_1 (Dense)             (None, 128)               32896     \n",
      "                                                                 \n",
      "=================================================================\n",
      "Total params: 22,361,248\n",
      "Trainable params: 557,952\n",
      "Non-trainable params: 21,803,296\n",
      "_________________________________________________________________\n"
     ]
    }
   ],
   "source": [
    "base_model = InceptionV3(weights='imagenet', include_top=False, input_shape=(299, 299, 3))\n",
    "base_model.trainable = False\n",
    "inputs = tf.keras.Input(shape=(299, 299, 3))\n",
    "x = inputs\n",
    "\n",
    "# pass results to a preprocessing layer\n",
    "x = tf.keras.applications.inception_v3.preprocess_input(x)\n",
    "\n",
    "# send results to the already trained model\n",
    "x = base_model(x, training=False)\n",
    "\n",
    "# send results to pooling layer\n",
    "x = tf.keras.layers.GlobalAveragePooling2D()(x)\n",
    "\n",
    "# send to fully connected layer\n",
    "x = tf.keras.layers.Dense(256,activation='relu')(x)\n",
    "\n",
    "# send to dropout layer\n",
    "x = tf.keras.layers.Dropout(.5)(x)\n",
    "\n",
    "# send to batch normalization layer\n",
    "x = tf.keras.layers.BatchNormalization()(x)\n",
    "\n",
    "# send to output dense layer with SoftMax activation function\n",
    "outputs = tf.keras.layers.Dense(128,activation='softmax')(x)\n",
    "\n",
    "# create a model with these layers\n",
    "model = tf.keras.Model(inputs, outputs)\n",
    "model.summary()"
   ]
  },
  {
   "cell_type": "code",
   "execution_count": 4,
   "id": "b54f2ff4",
   "metadata": {},
   "outputs": [],
   "source": [
    "model.compile(loss='sparse_categorical_crossentropy', optimizer=Adam(learning_rate=0.001), metrics=['accuracy'])\n",
    "x_train , x_test, y_train, y_test = train_test_split(X, y, test_size = 0.3, stratify=y)"
   ]
  },
  {
   "cell_type": "code",
   "execution_count": null,
   "id": "daef4121",
   "metadata": {},
   "outputs": [
    {
     "name": "stderr",
     "output_type": "stream",
     "text": [
      "2023-12-18 17:42:46.079257: W tensorflow/core/platform/profile_utils/cpu_utils.cc:128] Failed to get CPU frequency: 0 Hz\n"
     ]
    },
    {
     "name": "stdout",
     "output_type": "stream",
     "text": [
      "Epoch 1/10\n"
     ]
    },
    {
     "name": "stderr",
     "output_type": "stream",
     "text": [
      "2023-12-18 17:42:49.474591: I tensorflow/core/grappler/optimizers/custom_graph_optimizer_registry.cc:113] Plugin optimizer for device_type GPU is enabled.\n"
     ]
    },
    {
     "name": "stdout",
     "output_type": "stream",
     "text": [
      "451/451 [==============================] - 95s 189ms/step - loss: 1.2524 - accuracy: 0.7571\n",
      "Epoch 2/10\n",
      "451/451 [==============================] - 83s 183ms/step - loss: 0.4655 - accuracy: 0.8797\n",
      "Epoch 3/10\n",
      "451/451 [==============================] - 83s 183ms/step - loss: 0.3776 - accuracy: 0.8927\n",
      "Epoch 4/10\n",
      "451/451 [==============================] - 83s 183ms/step - loss: 0.3412 - accuracy: 0.9017\n",
      "Epoch 5/10\n",
      "451/451 [==============================] - 82s 183ms/step - loss: 0.3191 - accuracy: 0.9027\n",
      "Epoch 6/10\n",
      "451/451 [==============================] - 83s 184ms/step - loss: 0.2944 - accuracy: 0.9108\n",
      "Epoch 7/10\n",
      "451/451 [==============================] - 83s 183ms/step - loss: 0.2679 - accuracy: 0.9159\n",
      "Epoch 8/10\n",
      "451/451 [==============================] - 82s 182ms/step - loss: 0.2453 - accuracy: 0.9233\n",
      "Epoch 9/10\n",
      "451/451 [==============================] - 83s 184ms/step - loss: 0.2349 - accuracy: 0.9270\n",
      "Epoch 10/10\n",
      "194/451 [===========>..................] - ETA: 46s - loss: 0.2325 - accuracy: 0.9246"
     ]
    }
   ],
   "source": [
    "model.fit(x_train, y_train, batch_size=32, epochs=10)"
   ]
  },
  {
   "cell_type": "code",
   "execution_count": null,
   "id": "c8818328",
   "metadata": {},
   "outputs": [],
   "source": [
    "model.save('128dogs.h5')"
   ]
  }
 ],
 "metadata": {
  "kernelspec": {
   "display_name": "Python 3 (ipykernel)",
   "language": "python",
   "name": "python3"
  },
  "language_info": {
   "codemirror_mode": {
    "name": "ipython",
    "version": 3
   },
   "file_extension": ".py",
   "mimetype": "text/x-python",
   "name": "python",
   "nbconvert_exporter": "python",
   "pygments_lexer": "ipython3",
   "version": "3.9.16"
  }
 },
 "nbformat": 4,
 "nbformat_minor": 5
}
