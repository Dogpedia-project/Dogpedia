{
 "cells": [
  {
   "cell_type": "code",
   "execution_count": 1,
   "id": "0bfeb8d1",
   "metadata": {},
   "outputs": [],
   "source": [
    "import numpy as np\n",
    "import matplotlib.pyplot as plt\n",
    "import cv2\n",
    "import os\n",
    "import random\n",
    "import pickle"
   ]
  },
  {
   "cell_type": "code",
   "execution_count": 2,
   "id": "65b3b12e",
   "metadata": {},
   "outputs": [
    {
     "data": {
      "text/plain": [
       "['Australian_terrier',\n",
       " 'toy_poodle',\n",
       " 'Great_Pyrenees',\n",
       " 'Maltese_dog',\n",
       " 'Bichon Frisé',\n",
       " 'Norwich_terrier',\n",
       " 'whippet',\n",
       " 'Boston_bull',\n",
       " 'Irish_setter',\n",
       " 'Rottweiler',\n",
       " 'kelpie',\n",
       " 'schipperke',\n",
       " 'Leonberg',\n",
       " 'Welsh_springer_spaniel',\n",
       " 'Pomeranian',\n",
       " 'Pekinese',\n",
       " 'Irish_wolfhound',\n",
       " 'Blenheim_spaniel',\n",
       " 'Japanese Spitz',\n",
       " 'basenji',\n",
       " 'African_hunting_dog',\n",
       " 'komondor',\n",
       " 'Yorkshire_terrier',\n",
       " 'basset',\n",
       " 'Japanese_spaniel',\n",
       " 'standard_schnauzer',\n",
       " 'Sable German Shepherd',\n",
       " 'dhole',\n",
       " 'miniature_pinscher',\n",
       " 'Lhasa',\n",
       " 'Walker_hound',\n",
       " 'Kerry_blue_terrier',\n",
       " 'standard_poodle',\n",
       " 'Saint_Bernard',\n",
       " 'Chihuahua',\n",
       " 'Afghan_hound',\n",
       " 'Shiba Inu',\n",
       " 'Newfoundland',\n",
       " 'black-and-tan_coonhound',\n",
       " 'pug',\n",
       " 'Fila Braziliero',\n",
       " 'Scottish_deerhound',\n",
       " 'cairn',\n",
       " 'malamute',\n",
       " 'beagle',\n",
       " 'vizsla',\n",
       " 'collie',\n",
       " 'Italian_greyhound',\n",
       " 'West_Highland_white_terrier',\n",
       " 'Brittany_spaniel',\n",
       " 'English_springer',\n",
       " 'affenpinscher',\n",
       " 'Doberman',\n",
       " 'silky_terrier',\n",
       " 'Pembroke',\n",
       " 'Weimaraner',\n",
       " 'papillon',\n",
       " 'Norwegian_elkhound',\n",
       " 'Sussex_spaniel',\n",
       " 'soft-coated_wheaten_terrier',\n",
       " 'Shih-Tzu',\n",
       " 'Ibizan_hound',\n",
       " 'cocker_spaniel',\n",
       " 'flat-coated_retriever',\n",
       " 'American_Staffordshire_terrier',\n",
       " 'Rhodesian_ridgeback',\n",
       " 'Samoyed',\n",
       " 'groenendael',\n",
       " 'Shetland_sheepdog',\n",
       " 'Bouvier_des_Flandres',\n",
       " 'Lakeland_terrier',\n",
       " 'Saluki',\n",
       " 'miniature_poodle',\n",
       " 'Tibetan_terrier',\n",
       " 'Australian Shepherd',\n",
       " 'golden_retriever',\n",
       " 'Staffordshire_bullterrier',\n",
       " 'giant_schnauzer',\n",
       " 'Bedlington_terrier',\n",
       " 'miniature_schnauzer',\n",
       " 'Border_collie',\n",
       " 'Appenzeller',\n",
       " 'borzoi',\n",
       " 'Border_terrier',\n",
       " 'Siberian_husky',\n",
       " 'chow',\n",
       " 'curly-coated_retriever',\n",
       " 'Airedale',\n",
       " 'dingo',\n",
       " 'otterhound',\n",
       " 'keeshond',\n",
       " 'Cane Carso',\n",
       " 'French_bulldog',\n",
       " 'toy_terrier',\n",
       " 'Sealyham_terrier',\n",
       " 'Labrador_retriever',\n",
       " 'Bernese_mountain_dog',\n",
       " 'German_shepherd',\n",
       " 'briard',\n",
       " 'Chesapeake_Bay_retriever',\n",
       " 'kuvasz',\n",
       " 'malinois',\n",
       " 'Great_Dane',\n",
       " 'Norfolk_terrier',\n",
       " 'wire-haired_fox_terrier',\n",
       " 'Dandie_Dinmont',\n",
       " 'bull_mastiff',\n",
       " 'EntleBucher',\n",
       " 'Scotch_terrier',\n",
       " 'clumber',\n",
       " 'boxer',\n",
       " 'Chinese Rural Dog',\n",
       " 'Cardigan',\n",
       " 'Chinese Crested Dog',\n",
       " 'Tibetan_mastiff',\n",
       " 'Brussels Griffon',\n",
       " 'bloodhound',\n",
       " 'Irish_water_spaniel',\n",
       " 'Old_English_sheepdog',\n",
       " 'bluetick',\n",
       " 'Irish_terrier',\n",
       " 'Mexican_hairless',\n",
       " 'English_setter',\n",
       " 'redbone',\n",
       " 'Gordon_setter',\n",
       " 'English_foxhound',\n",
       " 'German_short-haired_pointer',\n",
       " 'Greater_Swiss_Mountain_dog']"
      ]
     },
     "execution_count": 2,
     "metadata": {},
     "output_type": "execute_result"
    }
   ],
   "source": [
    "dir_path = \"/Users/mm22/Downloads/Dog_images\"\n",
    "categories = []\n",
    "\n",
    "for root, dirs, files in os.walk(dir_path):\n",
    "    for dir_name in dirs:\n",
    "        categories.append(dir_name)\n",
    "categories"
   ]
  },
  {
   "cell_type": "code",
   "execution_count": 3,
   "id": "62499a5e",
   "metadata": {},
   "outputs": [],
   "source": [
    "training_data = []\n",
    "img_size = 299\n",
    "\n",
    "def create_training_data():\n",
    "    for category in categories:\n",
    "        path = os.path.join(dir_path, category)\n",
    "        class_num = categories.index(category)\n",
    "        for img in os.listdir(path):\n",
    "            try:\n",
    "                img_array = cv2.imread(os.path.join(path,img))[...,::-1]\n",
    "                new_array = cv2.resize(img_array, (img_size,img_size))\n",
    "                training_data.append([new_array, class_num])\n",
    "            except Exception as e:\n",
    "                pass\n",
    "\n",
    "create_training_data()"
   ]
  },
  {
   "cell_type": "code",
   "execution_count": 4,
   "id": "66cb6ab2",
   "metadata": {},
   "outputs": [
    {
     "name": "stdout",
     "output_type": "stream",
     "text": [
      "22510\n"
     ]
    }
   ],
   "source": [
    "print(len(training_data))"
   ]
  },
  {
   "cell_type": "code",
   "execution_count": 5,
   "id": "11046f14",
   "metadata": {},
   "outputs": [
    {
     "name": "stdout",
     "output_type": "stream",
     "text": [
      "66\n",
      "15\n",
      "18\n",
      "26\n",
      "102\n",
      "16\n",
      "85\n",
      "94\n",
      "77\n",
      "17\n"
     ]
    }
   ],
   "source": [
    "random.shuffle(training_data)\n",
    "for sample in training_data[:10]:\n",
    "    print(sample[1])"
   ]
  },
  {
   "cell_type": "code",
   "execution_count": 6,
   "id": "e58fcd5d",
   "metadata": {},
   "outputs": [],
   "source": [
    "training = list(zip(*training_data))\n",
    "\n",
    "X = training[0]\n",
    "y = training[1]\n",
    "\n",
    "X = np.array(X).reshape(-1, img_size, img_size, 3)\n",
    "y = np.array(y)\n",
    "\n",
    "pickle_out = open(\"X.pickle\", \"wb\")\n",
    "pickle.dump(X, pickle_out)\n",
    "pickle_out.close()\n",
    "\n",
    "pickle_out = open(\"y.pickle\", \"wb\")\n",
    "pickle.dump(y, pickle_out)\n",
    "pickle_out.close()"
   ]
  },
  {
   "cell_type": "code",
   "execution_count": 7,
   "id": "dad5d4fa",
   "metadata": {},
   "outputs": [
    {
     "data": {
      "text/plain": [
       "15"
      ]
     },
     "execution_count": 7,
     "metadata": {},
     "output_type": "execute_result"
    }
   ],
   "source": [
    "pickle_in = open(\"X.pickle\", \"rb\")\n",
    "X = pickle.load(pickle_in)\n",
    "\n",
    "X[1]\n",
    "y[1]"
   ]
  }
 ],
 "metadata": {
  "kernelspec": {
   "display_name": "Python 3 (ipykernel)",
   "language": "python",
   "name": "python3"
  },
  "language_info": {
   "codemirror_mode": {
    "name": "ipython",
    "version": 3
   },
   "file_extension": ".py",
   "mimetype": "text/x-python",
   "name": "python",
   "nbconvert_exporter": "python",
   "pygments_lexer": "ipython3",
   "version": "3.9.16"
  }
 },
 "nbformat": 4,
 "nbformat_minor": 5
}
